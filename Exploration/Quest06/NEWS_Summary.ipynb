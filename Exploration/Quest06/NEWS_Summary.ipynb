{
 "cells": [
  {
   "cell_type": "code",
   "execution_count": 2,
   "id": "6f84695e",
   "metadata": {},
   "outputs": [
    {
     "name": "stderr",
     "output_type": "stream",
     "text": [
      "[nltk_data] Downloading package stopwords to /aiffel/nltk_data...\n",
      "[nltk_data]   Unzipping corpora/stopwords.zip.\n"
     ]
    },
    {
     "name": "stdout",
     "output_type": "stream",
     "text": [
      "=3\n",
      "3.6.5\n",
      "2.6.0\n",
      "1.3.3\n",
      "1.2.0\n"
     ]
    }
   ],
   "source": [
    "from importlib.metadata import version\n",
    "import nltk\n",
    "import tensorflow\n",
    "import summa\n",
    "import pandas as pd\n",
    "import urllib.request\n",
    "from nltk.corpus import stopwords\n",
    "import nltk\n",
    "nltk.download('stopwords')\n",
    "\n",
    "import numpy as np\n",
    "import pandas as pd\n",
    "import os\n",
    "import re\n",
    "import matplotlib.pyplot as plt\n",
    "from nltk.corpus import stopwords\n",
    "from bs4 import BeautifulSoup \n",
    "from tensorflow.keras.preprocessing.text import Tokenizer \n",
    "from tensorflow.keras.preprocessing.sequence import pad_sequences\n",
    "import urllib.request\n",
    "import warnings\n",
    "warnings.filterwarnings(\"ignore\", category=UserWarning, module='bs4')\n",
    "\n",
    "print('=3')\n",
    "\n",
    "print(nltk.__version__)\n",
    "print(tensorflow.__version__)\n",
    "print(pd.__version__)\n",
    "print(version('summa'))"
   ]
  },
  {
   "cell_type": "code",
   "execution_count": 3,
   "id": "755613c6",
   "metadata": {},
   "outputs": [],
   "source": [
    "urllib.request.urlretrieve(\"https://raw.githubusercontent.com/sunnysai12345/News_Summary/master/news_summary_more.csv\", filename=\"news_summary_more.csv\")\n",
    "data = pd.read_csv('news_summary_more.csv', encoding='iso-8859-1')"
   ]
  },
  {
   "cell_type": "markdown",
   "id": "da757ca9",
   "metadata": {},
   "source": [
    "- 추상적 요약을 하는 경우에는 text를 본문, headlines를 이미 요약된 데이터로 삼아서 모델을 학습할 수 있어요. \n",
    "- 추출적 요약을 하는 경우에는 오직 text열만을 사용하세요."
   ]
  },
  {
   "cell_type": "code",
   "execution_count": 4,
   "id": "9b7913ec",
   "metadata": {},
   "outputs": [
    {
     "data": {
      "text/html": [
       "<div>\n",
       "<style scoped>\n",
       "    .dataframe tbody tr th:only-of-type {\n",
       "        vertical-align: middle;\n",
       "    }\n",
       "\n",
       "    .dataframe tbody tr th {\n",
       "        vertical-align: top;\n",
       "    }\n",
       "\n",
       "    .dataframe thead th {\n",
       "        text-align: right;\n",
       "    }\n",
       "</style>\n",
       "<table border=\"1\" class=\"dataframe\">\n",
       "  <thead>\n",
       "    <tr style=\"text-align: right;\">\n",
       "      <th></th>\n",
       "      <th>headlines</th>\n",
       "      <th>text</th>\n",
       "    </tr>\n",
       "  </thead>\n",
       "  <tbody>\n",
       "    <tr>\n",
       "      <th>67382</th>\n",
       "      <td>Asking 50 times won't change answer: Kriti on ...</td>\n",
       "      <td>Kriti Sanon, while denying rumours of being in...</td>\n",
       "    </tr>\n",
       "    <tr>\n",
       "      <th>82847</th>\n",
       "      <td>Steve Smith gets engaged to his girlfriend in ...</td>\n",
       "      <td>Australian skipper Steve Smith has gotten enga...</td>\n",
       "    </tr>\n",
       "    <tr>\n",
       "      <th>81218</th>\n",
       "      <td>SC orders nationwide stay on Centre's cattle s...</td>\n",
       "      <td>The Supreme Court on Tuesday put a stay on the...</td>\n",
       "    </tr>\n",
       "    <tr>\n",
       "      <th>58939</th>\n",
       "      <td>Trump uses racial slur while hosting Native Am...</td>\n",
       "      <td>US President Donald Trump on Monday used the t...</td>\n",
       "    </tr>\n",
       "    <tr>\n",
       "      <th>33729</th>\n",
       "      <td>We shouted, driver was busy on phone: Kid in U...</td>\n",
       "      <td>A nine-year-old student who was injured in the...</td>\n",
       "    </tr>\n",
       "    <tr>\n",
       "      <th>26131</th>\n",
       "      <td>Nothing wrong: Hima Das on AFI's tweet about h...</td>\n",
       "      <td>Hima Das, who became the first-ever Indian to ...</td>\n",
       "    </tr>\n",
       "    <tr>\n",
       "      <th>3752</th>\n",
       "      <td>Empower those who need support: Kangana on Ran...</td>\n",
       "      <td>Actress Kangana Ranaut has responded to Rani M...</td>\n",
       "    </tr>\n",
       "    <tr>\n",
       "      <th>9482</th>\n",
       "      <td>14-yr-old dies in firing during enactment of K...</td>\n",
       "      <td>A 14-year-old boy was accidentally shot dead i...</td>\n",
       "    </tr>\n",
       "    <tr>\n",
       "      <th>61945</th>\n",
       "      <td>Bengaluru most conducive for digital transform...</td>\n",
       "      <td>Bengaluru has topped the list of global cities...</td>\n",
       "    </tr>\n",
       "    <tr>\n",
       "      <th>8465</th>\n",
       "      <td>Kapil Sharma confirms marriage with girlfriend...</td>\n",
       "      <td>Comedian Kapil Sharma took to Instagram to ann...</td>\n",
       "    </tr>\n",
       "  </tbody>\n",
       "</table>\n",
       "</div>"
      ],
      "text/plain": [
       "                                               headlines  \\\n",
       "67382  Asking 50 times won't change answer: Kriti on ...   \n",
       "82847  Steve Smith gets engaged to his girlfriend in ...   \n",
       "81218  SC orders nationwide stay on Centre's cattle s...   \n",
       "58939  Trump uses racial slur while hosting Native Am...   \n",
       "33729  We shouted, driver was busy on phone: Kid in U...   \n",
       "26131  Nothing wrong: Hima Das on AFI's tweet about h...   \n",
       "3752   Empower those who need support: Kangana on Ran...   \n",
       "9482   14-yr-old dies in firing during enactment of K...   \n",
       "61945  Bengaluru most conducive for digital transform...   \n",
       "8465   Kapil Sharma confirms marriage with girlfriend...   \n",
       "\n",
       "                                                    text  \n",
       "67382  Kriti Sanon, while denying rumours of being in...  \n",
       "82847  Australian skipper Steve Smith has gotten enga...  \n",
       "81218  The Supreme Court on Tuesday put a stay on the...  \n",
       "58939  US President Donald Trump on Monday used the t...  \n",
       "33729  A nine-year-old student who was injured in the...  \n",
       "26131  Hima Das, who became the first-ever Indian to ...  \n",
       "3752   Actress Kangana Ranaut has responded to Rani M...  \n",
       "9482   A 14-year-old boy was accidentally shot dead i...  \n",
       "61945  Bengaluru has topped the list of global cities...  \n",
       "8465   Comedian Kapil Sharma took to Instagram to ann...  "
      ]
     },
     "execution_count": 4,
     "metadata": {},
     "output_type": "execute_result"
    }
   ],
   "source": [
    "data.sample(10)"
   ]
  },
  {
   "cell_type": "markdown",
   "id": "045631e5",
   "metadata": {},
   "source": [
    "## 데이터 전처리"
   ]
  },
  {
   "cell_type": "markdown",
   "id": "936a6ac8",
   "metadata": {},
   "source": [
    "### 중복 샘플과 NULL 값 제거"
   ]
  },
  {
   "cell_type": "code",
   "execution_count": 5,
   "id": "73b3f767",
   "metadata": {},
   "outputs": [
    {
     "name": "stdout",
     "output_type": "stream",
     "text": [
      "Headlines 열에서 중복을 배제한 유일한 샘플의 수 : 98280\n",
      "Text 열에서 중복을 배제한 유일한 샘플의 수 : 98360\n"
     ]
    }
   ],
   "source": [
    "print('Headlines 열에서 중복을 배제한 유일한 샘플의 수 :', data['headlines'].nunique())\n",
    "print('Text 열에서 중복을 배제한 유일한 샘플의 수 :', data['text'].nunique())"
   ]
  },
  {
   "cell_type": "code",
   "execution_count": 6,
   "id": "cbf3fdc6",
   "metadata": {},
   "outputs": [
    {
     "name": "stdout",
     "output_type": "stream",
     "text": [
      "전체 샘플수 : 98262\n"
     ]
    }
   ],
   "source": [
    "# inplace=True 를 설정하면 DataFrame 타입 값을 return 하지 않고 data 내부를 직접적으로 바꿉니다\n",
    "data.drop_duplicates(subset = ['headlines'], inplace=True)\n",
    "\n",
    "data.drop_duplicates(subset = ['text'], inplace=True)\n",
    "print('전체 샘플수 :', (len(data)))"
   ]
  },
  {
   "cell_type": "code",
   "execution_count": 7,
   "id": "01ae0223",
   "metadata": {},
   "outputs": [
    {
     "name": "stdout",
     "output_type": "stream",
     "text": [
      "headlines    0\n",
      "text         0\n",
      "dtype: int64\n"
     ]
    }
   ],
   "source": [
    "print(data.isnull().sum()) # 중복값이 없음을 확인"
   ]
  },
  {
   "cell_type": "markdown",
   "id": "4812892d",
   "metadata": {},
   "source": [
    "### 텍스트 정규화와 불용어 제거"
   ]
  },
  {
   "cell_type": "code",
   "execution_count": 8,
   "id": "a2f0bb90",
   "metadata": {},
   "outputs": [
    {
     "name": "stdout",
     "output_type": "stream",
     "text": [
      "정규화 사전의 수:  120\n"
     ]
    }
   ],
   "source": [
    "contractions = {\"ain't\": \"is not\", \"aren't\": \"are not\",\"can't\": \"cannot\", \"'cause\": \"because\", \"could've\": \"could have\", \"couldn't\": \"could not\",\n",
    "                           \"didn't\": \"did not\",  \"doesn't\": \"does not\", \"don't\": \"do not\", \"hadn't\": \"had not\", \"hasn't\": \"has not\", \"haven't\": \"have not\",\n",
    "                           \"he'd\": \"he would\",\"he'll\": \"he will\", \"he's\": \"he is\", \"how'd\": \"how did\", \"how'd'y\": \"how do you\", \"how'll\": \"how will\", \"how's\": \"how is\",\n",
    "                           \"I'd\": \"I would\", \"I'd've\": \"I would have\", \"I'll\": \"I will\", \"I'll've\": \"I will have\",\"I'm\": \"I am\", \"I've\": \"I have\", \"i'd\": \"i would\",\n",
    "                           \"i'd've\": \"i would have\", \"i'll\": \"i will\",  \"i'll've\": \"i will have\",\"i'm\": \"i am\", \"i've\": \"i have\", \"isn't\": \"is not\", \"it'd\": \"it would\",\n",
    "                           \"it'd've\": \"it would have\", \"it'll\": \"it will\", \"it'll've\": \"it will have\",\"it's\": \"it is\", \"let's\": \"let us\", \"ma'am\": \"madam\",\n",
    "                           \"mayn't\": \"may not\", \"might've\": \"might have\",\"mightn't\": \"might not\",\"mightn't've\": \"might not have\", \"must've\": \"must have\",\n",
    "                           \"mustn't\": \"must not\", \"mustn't've\": \"must not have\", \"needn't\": \"need not\", \"needn't've\": \"need not have\",\"o'clock\": \"of the clock\",\n",
    "                           \"oughtn't\": \"ought not\", \"oughtn't've\": \"ought not have\", \"shan't\": \"shall not\", \"sha'n't\": \"shall not\", \"shan't've\": \"shall not have\",\n",
    "                           \"she'd\": \"she would\", \"she'd've\": \"she would have\", \"she'll\": \"she will\", \"she'll've\": \"she will have\", \"she's\": \"she is\",\n",
    "                           \"should've\": \"should have\", \"shouldn't\": \"should not\", \"shouldn't've\": \"should not have\", \"so've\": \"so have\",\"so's\": \"so as\",\n",
    "                           \"this's\": \"this is\",\"that'd\": \"that would\", \"that'd've\": \"that would have\", \"that's\": \"that is\", \"there'd\": \"there would\",\n",
    "                           \"there'd've\": \"there would have\", \"there's\": \"there is\", \"here's\": \"here is\",\"they'd\": \"they would\", \"they'd've\": \"they would have\",\n",
    "                           \"they'll\": \"they will\", \"they'll've\": \"they will have\", \"they're\": \"they are\", \"they've\": \"they have\", \"to've\": \"to have\",\n",
    "                           \"wasn't\": \"was not\", \"we'd\": \"we would\", \"we'd've\": \"we would have\", \"we'll\": \"we will\", \"we'll've\": \"we will have\", \"we're\": \"we are\",\n",
    "                           \"we've\": \"we have\", \"weren't\": \"were not\", \"what'll\": \"what will\", \"what'll've\": \"what will have\", \"what're\": \"what are\",\n",
    "                           \"what's\": \"what is\", \"what've\": \"what have\", \"when's\": \"when is\", \"when've\": \"when have\", \"where'd\": \"where did\", \"where's\": \"where is\",\n",
    "                           \"where've\": \"where have\", \"who'll\": \"who will\", \"who'll've\": \"who will have\", \"who's\": \"who is\", \"who've\": \"who have\",\n",
    "                           \"why's\": \"why is\", \"why've\": \"why have\", \"will've\": \"will have\", \"won't\": \"will not\", \"won't've\": \"will not have\",\n",
    "                           \"would've\": \"would have\", \"wouldn't\": \"would not\", \"wouldn't've\": \"would not have\", \"y'all\": \"you all\",\n",
    "                           \"y'all'd\": \"you all would\",\"y'all'd've\": \"you all would have\",\"y'all're\": \"you all are\",\"y'all've\": \"you all have\",\n",
    "                           \"you'd\": \"you would\", \"you'd've\": \"you would have\", \"you'll\": \"you will\", \"you'll've\": \"you will have\",\n",
    "                           \"you're\": \"you are\", \"you've\": \"you have\"}\n",
    "\n",
    "print(\"정규화 사전의 수: \", len(contractions))"
   ]
  },
  {
   "cell_type": "code",
   "execution_count": 9,
   "id": "6a59ebec",
   "metadata": {},
   "outputs": [
    {
     "name": "stdout",
     "output_type": "stream",
     "text": [
      "불용어 개수 : 179\n",
      "['i', 'me', 'my', 'myself', 'we', 'our', 'ours', 'ourselves', 'you', \"you're\", \"you've\", \"you'll\", \"you'd\", 'your', 'yours', 'yourself', 'yourselves', 'he', 'him', 'his', 'himself', 'she', \"she's\", 'her', 'hers', 'herself', 'it', \"it's\", 'its', 'itself', 'they', 'them', 'their', 'theirs', 'themselves', 'what', 'which', 'who', 'whom', 'this', 'that', \"that'll\", 'these', 'those', 'am', 'is', 'are', 'was', 'were', 'be', 'been', 'being', 'have', 'has', 'had', 'having', 'do', 'does', 'did', 'doing', 'a', 'an', 'the', 'and', 'but', 'if', 'or', 'because', 'as', 'until', 'while', 'of', 'at', 'by', 'for', 'with', 'about', 'against', 'between', 'into', 'through', 'during', 'before', 'after', 'above', 'below', 'to', 'from', 'up', 'down', 'in', 'out', 'on', 'off', 'over', 'under', 'again', 'further', 'then', 'once', 'here', 'there', 'when', 'where', 'why', 'how', 'all', 'any', 'both', 'each', 'few', 'more', 'most', 'other', 'some', 'such', 'no', 'nor', 'not', 'only', 'own', 'same', 'so', 'than', 'too', 'very', 's', 't', 'can', 'will', 'just', 'don', \"don't\", 'should', \"should've\", 'now', 'd', 'll', 'm', 'o', 're', 've', 'y', 'ain', 'aren', \"aren't\", 'couldn', \"couldn't\", 'didn', \"didn't\", 'doesn', \"doesn't\", 'hadn', \"hadn't\", 'hasn', \"hasn't\", 'haven', \"haven't\", 'isn', \"isn't\", 'ma', 'mightn', \"mightn't\", 'mustn', \"mustn't\", 'needn', \"needn't\", 'shan', \"shan't\", 'shouldn', \"shouldn't\", 'wasn', \"wasn't\", 'weren', \"weren't\", 'won', \"won't\", 'wouldn', \"wouldn't\"]\n"
     ]
    },
    {
     "name": "stderr",
     "output_type": "stream",
     "text": [
      "[nltk_data] Downloading package stopwords to /aiffel/nltk_data...\n",
      "[nltk_data]   Package stopwords is already up-to-date!\n"
     ]
    }
   ],
   "source": [
    "import nltk\n",
    "nltk.download('stopwords')\n",
    "\n",
    "print('불용어 개수 :', len(stopwords.words('english') ))\n",
    "print(stopwords.words('english'))"
   ]
  },
  {
   "cell_type": "code",
   "execution_count": 10,
   "id": "dd2e9e0c",
   "metadata": {},
   "outputs": [],
   "source": [
    "# 데이터 전처리 함수\n",
    "def preprocess_sentence(sentence, remove_stopwords=True):\n",
    "    sentence = sentence.lower() # 텍스트 소문자화\n",
    "    sentence = BeautifulSoup(sentence, \"lxml\").text # <br />, <a href = ...> 등의 html 태그 제거\n",
    "    sentence = re.sub(r'\\([^)]*\\)', '', sentence) # 괄호로 닫힌 문자열 (...) 제거 Ex) my husband (and myself!) for => my husband for\n",
    "    sentence = re.sub('\"','', sentence) # 쌍따옴표 \" 제거\n",
    "    sentence = ' '.join([contractions[t] if t in contractions else t for t in sentence.split(\" \")]) # 약어 정규화\n",
    "    sentence = re.sub(r\"'s\\b\",\"\", sentence) # 소유격 제거. Ex) roland's -> roland\n",
    "    sentence = re.sub(\"[^a-zA-Z]\", \" \", sentence) # 영어 외 문자(숫자, 특수문자 등) 공백으로 변환\n",
    "    sentence = re.sub('[m]{2,}', 'mm', sentence) # m이 3개 이상이면 2개로 변경. Ex) ummmmmmm yeah -> umm yeah\n",
    "    \n",
    "    # 불용어 제거 (Text)\n",
    "    if remove_stopwords:\n",
    "        tokens = ' '.join(word for word in sentence.split() if not word in stopwords.words('english') if len(word) > 1)\n",
    "    # 불용어 미제거 (Summary)\n",
    "    else:\n",
    "        tokens = ' '.join(word for word in sentence.split() if len(word) > 1)\n",
    "    return tokens"
   ]
  },
  {
   "cell_type": "code",
   "execution_count": 11,
   "id": "2e1f38ef",
   "metadata": {},
   "outputs": [
    {
     "name": "stdout",
     "output_type": "stream",
     "text": [
      "Headlines 전처리 후 결과:  ['upgrad learner switches to career in ml al with salary hike', 'delhi techie wins free food from swiggy for one year on cred', 'new zealand end rohit sharma led india match winning streak', 'aegon life iterm insurance plan helps customers save tax', 'have known hirani for yrs what if metoo claims are not true sonam']\n"
     ]
    }
   ],
   "source": [
    "clean_headlines = []\n",
    "\n",
    "for sentence in data['headlines']:  \n",
    "    clean_headlines.append(preprocess_sentence(sentence, remove_stopwords = False))\n",
    "\n",
    "# 전처리 후 출력\n",
    "print(\"Headlines 전처리 후 결과: \", clean_headlines[:5])"
   ]
  },
  {
   "cell_type": "code",
   "execution_count": 12,
   "id": "d17b4ea1",
   "metadata": {},
   "outputs": [
    {
     "name": "stdout",
     "output_type": "stream",
     "text": [
      "Text 전처리 후 결과:  ['saurav kant alumnus upgrad iiit pg program machine learning artificial intelligence sr systems engineer infosys almost years work experience program upgrad degree career support helped transition data scientist tech mahindra salary hike upgrad online power learning powered lakh careers', 'kunal shah credit card bill payment platform cred gave users chance win free food swiggy one year pranav kaushik delhi techie bagged reward spending cred coins users get one cred coin per rupee bill paid used avail rewards brands like ixigo bookmyshow ubereats cult fit', 'new zealand defeated india wickets fourth odi hamilton thursday win first match five match odi series india lost international match rohit sharma captaincy consecutive victories dating back march match witnessed india getting seventh lowest total odi cricket history', 'aegon life iterm insurance plan customers enjoy tax benefits premiums paid save taxes plan provides life cover age years also customers options insure critical illnesses disability accidental death benefit rider life cover age years', 'speaking sexual harassment allegations rajkumar hirani sonam kapoor said known hirani many years true metoo movement get derailed metoo movement always believe woman case need reserve judgment added hirani accused assistant worked sanju']\n"
     ]
    }
   ],
   "source": [
    "clean_text = []\n",
    "\n",
    "for sentence in data['text']: \n",
    "    clean_text.append(preprocess_sentence(sentence))\n",
    "\n",
    "# 전처리 후 출력\n",
    "print(\"Text 전처리 후 결과: \", clean_text[:5])"
   ]
  },
  {
   "cell_type": "code",
   "execution_count": 13,
   "id": "d875142e",
   "metadata": {},
   "outputs": [],
   "source": [
    "data['headlines'] = clean_headlines\n",
    "data['text'] = clean_text\n",
    "\n",
    "data.replace('', np.nan, inplace = True)"
   ]
  },
  {
   "cell_type": "code",
   "execution_count": 14,
   "id": "9f7dd036",
   "metadata": {},
   "outputs": [
    {
     "data": {
      "text/plain": [
       "headlines    0\n",
       "text         0\n",
       "dtype: int64"
      ]
     },
     "execution_count": 14,
     "metadata": {},
     "output_type": "execute_result"
    }
   ],
   "source": [
    "data.isnull().sum()"
   ]
  },
  {
   "cell_type": "code",
   "execution_count": 15,
   "id": "acc7a3bc",
   "metadata": {},
   "outputs": [
    {
     "name": "stdout",
     "output_type": "stream",
     "text": [
      "Headline의 최소 길이 : 1\n",
      "Headline의 최대 길이 : 16\n",
      "Headline의 평균 길이 : 9.299444342675704\n",
      "Text의 최소 길이 : 1\n",
      "Text의 최대 길이 : 60\n",
      "Text의 평균 길이 : 35.10029309397326\n"
     ]
    },
    {
     "data": {
      "image/png": "[encoded data removed]",
      "text/plain": [
       "<Figure size 432x288 with 2 Axes>"
      ]
     },
     "metadata": {
      "needs_background": "light"
     },
     "output_type": "display_data"
    },
    {
     "data": {
      "image/png": "[encoded data removed]",
      "text/plain": [
       "<Figure size 432x288 with 1 Axes>"
      ]
     },
     "metadata": {
      "needs_background": "light"
     },
     "output_type": "display_data"
    },
    {
     "data": {
      "image/png": "[encoded data removed]",
      "text/plain": [
       "<Figure size 432x288 with 1 Axes>"
      ]
     },
     "metadata": {
      "needs_background": "light"
     },
     "output_type": "display_data"
    }
   ],
   "source": [
    "# 길이 분포 출력\n",
    "import matplotlib.pyplot as plt\n",
    "\n",
    "headline_len = [len(s.split()) for s in data['headlines']]\n",
    "text_len = [len(s.split()) for s in data['text']]\n",
    "\n",
    "print('Headline의 최소 길이 : {}'.format(np.min(headline_len)))\n",
    "print('Headline의 최대 길이 : {}'.format(np.max(headline_len)))\n",
    "print('Headline의 평균 길이 : {}'.format(np.mean(headline_len)))\n",
    "print('Text의 최소 길이 : {}'.format(np.min(text_len)))\n",
    "print('Text의 최대 길이 : {}'.format(np.max(text_len)))\n",
    "print('Text의 평균 길이 : {}'.format(np.mean(text_len)))\n",
    "\n",
    "plt.subplot(1,2,1)\n",
    "plt.boxplot(headline_len)\n",
    "plt.title('Headlines')\n",
    "plt.subplot(1,2,2)\n",
    "plt.boxplot(text_len)\n",
    "plt.title('Text')\n",
    "plt.tight_layout()\n",
    "plt.show()\n",
    "\n",
    "plt.title('Headlines')\n",
    "plt.hist(headline_len, bins = 40)\n",
    "plt.xlabel('length of samples')\n",
    "plt.ylabel('number of samples')\n",
    "plt.show()\n",
    "\n",
    "plt.title('Text')\n",
    "plt.hist(text_len, bins = 40)\n",
    "plt.xlabel('length of samples')\n",
    "plt.ylabel('number of samples')\n",
    "plt.show()"
   ]
  },
  {
   "cell_type": "code",
   "execution_count": 16,
   "id": "068d12e3",
   "metadata": {},
   "outputs": [],
   "source": [
    "headlines_max_len = 11\n",
    "text_max_len = 43"
   ]
  },
  {
   "cell_type": "code",
   "execution_count": 17,
   "id": "9db61128",
   "metadata": {},
   "outputs": [],
   "source": [
    "def below_threshold_len(max_len, nested_list):\n",
    "    cnt = 0\n",
    "    for s in nested_list:\n",
    "        if(len(s.split()) <= max_len):\n",
    "            cnt += 1\n",
    "    print('전체 샘플 중 길이가 %s 이하인 샘플의 비율: %s'%(max_len, (cnt / len(nested_list))))"
   ]
  },
  {
   "cell_type": "code",
   "execution_count": 18,
   "id": "301e9d07",
   "metadata": {},
   "outputs": [
    {
     "name": "stdout",
     "output_type": "stream",
     "text": [
      "전체 샘플 중 길이가 11 이하인 샘플의 비율: 0.9450041725183692\n",
      "전체 샘플 중 길이가 43 이하인 샘플의 비율: 0.9871669617960147\n"
     ]
    }
   ],
   "source": [
    "below_threshold_len(headlines_max_len, data['headlines'])\n",
    "below_threshold_len(text_max_len,  data['text'])"
   ]
  },
  {
   "cell_type": "code",
   "execution_count": 19,
   "id": "1c30fd91",
   "metadata": {},
   "outputs": [
    {
     "name": "stdout",
     "output_type": "stream",
     "text": [
      "제외 후 남은 샘플 수: 91679\n"
     ]
    }
   ],
   "source": [
    "# 텍스트와 요약의 길이가 각각 headlines_max_len 및 text_max_len 작은 샘플들만 남기기\n",
    "data = data[data['headlines'].apply(lambda x: len(x.split()) <= headlines_max_len)]\n",
    "data = data[data['text'].apply(lambda x: len(x.split()) <= text_max_len)]\n",
    "\n",
    "# 결과 출력\n",
    "print(f\"제외 후 남은 샘플 수: {len(data)}\")"
   ]
  },
  {
   "cell_type": "markdown",
   "id": "192a7cb9",
   "metadata": {},
   "source": [
    "### 시작 토큰과 종료 토큰 추가하기"
   ]
  },
  {
   "cell_type": "code",
   "execution_count": 20,
   "id": "6a727c30",
   "metadata": {},
   "outputs": [
    {
     "data": {
      "text/html": [
       "<div>\n",
       "<style scoped>\n",
       "    .dataframe tbody tr th:only-of-type {\n",
       "        vertical-align: middle;\n",
       "    }\n",
       "\n",
       "    .dataframe tbody tr th {\n",
       "        vertical-align: top;\n",
       "    }\n",
       "\n",
       "    .dataframe thead th {\n",
       "        text-align: right;\n",
       "    }\n",
       "</style>\n",
       "<table border=\"1\" class=\"dataframe\">\n",
       "  <thead>\n",
       "    <tr style=\"text-align: right;\">\n",
       "      <th></th>\n",
       "      <th>headlines</th>\n",
       "      <th>text</th>\n",
       "      <th>decoder_input</th>\n",
       "      <th>decoder_target</th>\n",
       "    </tr>\n",
       "  </thead>\n",
       "  <tbody>\n",
       "    <tr>\n",
       "      <th>0</th>\n",
       "      <td>upgrad learner switches to career in ml al wit...</td>\n",
       "      <td>saurav kant alumnus upgrad iiit pg program mac...</td>\n",
       "      <td>sostoken upgrad learner switches to career in ...</td>\n",
       "      <td>upgrad learner switches to career in ml al wit...</td>\n",
       "    </tr>\n",
       "    <tr>\n",
       "      <th>2</th>\n",
       "      <td>new zealand end rohit sharma led india match w...</td>\n",
       "      <td>new zealand defeated india wickets fourth odi ...</td>\n",
       "      <td>sostoken new zealand end rohit sharma led indi...</td>\n",
       "      <td>new zealand end rohit sharma led india match w...</td>\n",
       "    </tr>\n",
       "    <tr>\n",
       "      <th>3</th>\n",
       "      <td>aegon life iterm insurance plan helps customer...</td>\n",
       "      <td>aegon life iterm insurance plan customers enjo...</td>\n",
       "      <td>sostoken aegon life iterm insurance plan helps...</td>\n",
       "      <td>aegon life iterm insurance plan helps customer...</td>\n",
       "    </tr>\n",
       "    <tr>\n",
       "      <th>5</th>\n",
       "      <td>rahat fateh ali khan denies getting notice for...</td>\n",
       "      <td>pakistani singer rahat fateh ali khan denied r...</td>\n",
       "      <td>sostoken rahat fateh ali khan denies getting n...</td>\n",
       "      <td>rahat fateh ali khan denies getting notice for...</td>\n",
       "    </tr>\n",
       "    <tr>\n",
       "      <th>7</th>\n",
       "      <td>govt directs alok verma to join work day befor...</td>\n",
       "      <td>weeks ex cbi director alok verma told departme...</td>\n",
       "      <td>sostoken govt directs alok verma to join work ...</td>\n",
       "      <td>govt directs alok verma to join work day befor...</td>\n",
       "    </tr>\n",
       "  </tbody>\n",
       "</table>\n",
       "</div>"
      ],
      "text/plain": [
       "                                           headlines  \\\n",
       "0  upgrad learner switches to career in ml al wit...   \n",
       "2  new zealand end rohit sharma led india match w...   \n",
       "3  aegon life iterm insurance plan helps customer...   \n",
       "5  rahat fateh ali khan denies getting notice for...   \n",
       "7  govt directs alok verma to join work day befor...   \n",
       "\n",
       "                                                text  \\\n",
       "0  saurav kant alumnus upgrad iiit pg program mac...   \n",
       "2  new zealand defeated india wickets fourth odi ...   \n",
       "3  aegon life iterm insurance plan customers enjo...   \n",
       "5  pakistani singer rahat fateh ali khan denied r...   \n",
       "7  weeks ex cbi director alok verma told departme...   \n",
       "\n",
       "                                       decoder_input  \\\n",
       "0  sostoken upgrad learner switches to career in ...   \n",
       "2  sostoken new zealand end rohit sharma led indi...   \n",
       "3  sostoken aegon life iterm insurance plan helps...   \n",
       "5  sostoken rahat fateh ali khan denies getting n...   \n",
       "7  sostoken govt directs alok verma to join work ...   \n",
       "\n",
       "                                      decoder_target  \n",
       "0  upgrad learner switches to career in ml al wit...  \n",
       "2  new zealand end rohit sharma led india match w...  \n",
       "3  aegon life iterm insurance plan helps customer...  \n",
       "5  rahat fateh ali khan denies getting notice for...  \n",
       "7  govt directs alok verma to join work day befor...  "
      ]
     },
     "execution_count": 20,
     "metadata": {},
     "output_type": "execute_result"
    }
   ],
   "source": [
    "# 요약 데이터에는 시작 토큰과 종료 토큰을 추가한다.\n",
    "data['decoder_input'] = data['headlines'].apply(lambda x : 'sostoken '+ x)\n",
    "data['decoder_target'] = data['headlines'].apply(lambda x : x + ' eostoken')\n",
    "data.head()"
   ]
  },
  {
   "cell_type": "code",
   "execution_count": 21,
   "id": "ddd5d6c7",
   "metadata": {},
   "outputs": [],
   "source": [
    "encoder_input = np.array(data['text']) # 인코더의 입력\n",
    "decoder_input = np.array(data['decoder_input']) # 디코더의 입력\n",
    "decoder_target = np.array(data['decoder_target']) # 디코더의 레이블"
   ]
  },
  {
   "cell_type": "code",
   "execution_count": 22,
   "id": "786e779c",
   "metadata": {},
   "outputs": [],
   "source": [
    "indices = np.arange(encoder_input.shape[0])\n",
    "np.random.shuffle(indices)"
   ]
  },
  {
   "cell_type": "code",
   "execution_count": 23,
   "id": "43ca9d5f",
   "metadata": {},
   "outputs": [],
   "source": [
    "encoder_input = encoder_input[indices]\n",
    "decoder_input = decoder_input[indices]\n",
    "decoder_target = decoder_target[indices]"
   ]
  },
  {
   "cell_type": "code",
   "execution_count": 24,
   "id": "6443b9c0",
   "metadata": {},
   "outputs": [
    {
     "name": "stdout",
     "output_type": "stream",
     "text": [
      "테스트 데이터의 수 : 18335\n"
     ]
    }
   ],
   "source": [
    "n_of_val = int(len(encoder_input)*0.2)\n",
    "print('테스트 데이터의 수 :', n_of_val)"
   ]
  },
  {
   "cell_type": "code",
   "execution_count": 25,
   "id": "a8c0707b",
   "metadata": {},
   "outputs": [
    {
     "name": "stdout",
     "output_type": "stream",
     "text": [
      "훈련 데이터의 개수 : 73344\n",
      "훈련 레이블의 개수 : 73344\n",
      "테스트 데이터의 개수 : 18335\n",
      "테스트 레이블의 개수 : 18335\n"
     ]
    }
   ],
   "source": [
    "encoder_input_train = encoder_input[:-n_of_val]\n",
    "decoder_input_train = decoder_input[:-n_of_val]\n",
    "decoder_target_train = decoder_target[:-n_of_val]\n",
    "\n",
    "encoder_input_test = encoder_input[-n_of_val:]\n",
    "decoder_input_test = decoder_input[-n_of_val:]\n",
    "decoder_target_test = decoder_target[-n_of_val:]\n",
    "\n",
    "print('훈련 데이터의 개수 :', len(encoder_input_train))\n",
    "print('훈련 레이블의 개수 :', len(decoder_input_train))\n",
    "print('테스트 데이터의 개수 :', len(encoder_input_test))\n",
    "print('테스트 레이블의 개수 :', len(decoder_input_test))"
   ]
  },
  {
   "cell_type": "code",
   "execution_count": 26,
   "id": "6af0ed0b",
   "metadata": {},
   "outputs": [],
   "source": [
    "src_tokenizer = Tokenizer() # 토크나이저 정의\n",
    "src_tokenizer.fit_on_texts(encoder_input_train) # 입력된 데이터로부터 단어 집합 생성"
   ]
  },
  {
   "cell_type": "code",
   "execution_count": 27,
   "id": "3466a109",
   "metadata": {},
   "outputs": [
    {
     "name": "stdout",
     "output_type": "stream",
     "text": [
      "단어 집합(vocabulary)의 크기 : 67469\n",
      "등장 빈도가 6번 이하인 희귀 단어의 수: 46058\n",
      "단어 집합에서 희귀 단어를 제외시킬 경우의 단어 집합의 크기 21411\n",
      "단어 집합에서 희귀 단어의 비율: 68.26542560286947\n",
      "전체 등장 빈도에서 희귀 단어 등장 빈도 비율: 3.633148517088199\n"
     ]
    }
   ],
   "source": [
    "threshold = 7\n",
    "total_cnt = len(src_tokenizer.word_index) # 단어의 수\n",
    "rare_cnt = 0 # 등장 빈도수가 threshold보다 작은 단어의 개수를 카운트\n",
    "total_freq = 0 # 훈련 데이터의 전체 단어 빈도수 총 합\n",
    "rare_freq = 0 # 등장 빈도수가 threshold보다 작은 단어의 등장 빈도수의 총 합\n",
    "\n",
    "# 단어와 빈도수의 쌍(pair)을 key와 value로 받는다.\n",
    "for key, value in src_tokenizer.word_counts.items():\n",
    "    total_freq = total_freq + value\n",
    "\n",
    "    # 단어의 등장 빈도수가 threshold보다 작으면\n",
    "    if(value < threshold):\n",
    "        rare_cnt = rare_cnt + 1\n",
    "        rare_freq = rare_freq + value\n",
    "\n",
    "print('단어 집합(vocabulary)의 크기 :', total_cnt)\n",
    "print('등장 빈도가 %s번 이하인 희귀 단어의 수: %s'%(threshold - 1, rare_cnt))\n",
    "print('단어 집합에서 희귀 단어를 제외시킬 경우의 단어 집합의 크기 %s'%(total_cnt - rare_cnt))\n",
    "print(\"단어 집합에서 희귀 단어의 비율:\", (rare_cnt / total_cnt)*100)\n",
    "print(\"전체 등장 빈도에서 희귀 단어 등장 빈도 비율:\", (rare_freq / total_freq)*100)"
   ]
  },
  {
   "cell_type": "code",
   "execution_count": 28,
   "id": "64fbcb4f",
   "metadata": {},
   "outputs": [
    {
     "name": "stdout",
     "output_type": "stream",
     "text": [
      "=3\n"
     ]
    }
   ],
   "source": [
    "src_vocab = 67000\n",
    "src_tokenizer = Tokenizer(num_words=src_vocab) # 단어 집합의 크기를 67000으로 제한\n",
    "src_tokenizer.fit_on_texts(encoder_input_train) # 단어 집합 재생성\n",
    "print('=3')"
   ]
  },
  {
   "cell_type": "code",
   "execution_count": 29,
   "id": "9e687fd9",
   "metadata": {},
   "outputs": [
    {
     "name": "stdout",
     "output_type": "stream",
     "text": [
      "[[4269, 2328, 625, 11, 1477, 456, 771, 147, 20011, 21412, 1, 230, 27, 2754, 1014, 534, 1123, 564, 724, 1599, 3, 13, 3519, 362, 3660, 449, 28, 636, 438, 600, 186, 724], [5, 6032, 103, 33695, 3164, 19, 9, 1550, 7652, 1174, 33696, 1606, 2684, 165, 3743, 4008, 945, 2970, 1587, 1793, 11113, 23206, 287, 6836, 1364, 1365, 13292, 33695, 1, 33696, 666, 628, 104, 8642, 462, 208], [71, 34, 12083, 1727, 232, 103, 28608, 294, 47, 12084, 2101, 2, 33697, 28608, 1262, 9867, 7534, 12083, 1727, 63, 33698, 3520, 209, 2088, 1898, 6, 6391, 546, 20012, 28608, 547, 11, 1201, 197, 1632, 7423, 7424, 33699, 33700, 23207, 28609, 43332]]\n"
     ]
    }
   ],
   "source": [
    "# 텍스트 시퀀스를 정수 시퀀스로 변환\n",
    "encoder_input_train = src_tokenizer.texts_to_sequences(encoder_input_train) \n",
    "encoder_input_test = src_tokenizer.texts_to_sequences(encoder_input_test)\n",
    "\n",
    "# 잘 진행되었는지 샘플 출력\n",
    "print(encoder_input_train[:3])"
   ]
  },
  {
   "cell_type": "code",
   "execution_count": 30,
   "id": "7482b1bd",
   "metadata": {},
   "outputs": [
    {
     "name": "stdout",
     "output_type": "stream",
     "text": [
      "=3\n"
     ]
    }
   ],
   "source": [
    "tar_tokenizer = Tokenizer()\n",
    "tar_tokenizer.fit_on_texts(decoder_input_train)\n",
    "print('=3')"
   ]
  },
  {
   "cell_type": "code",
   "execution_count": 31,
   "id": "066fb9c8",
   "metadata": {},
   "outputs": [
    {
     "name": "stdout",
     "output_type": "stream",
     "text": [
      "단어 집합(vocabulary)의 크기 : 29381\n",
      "등장 빈도가 5번 이하인 희귀 단어의 수: 19282\n",
      "단어 집합에서 희귀 단어를 제외시킬 경우의 단어 집합의 크기 10099\n",
      "단어 집합에서 희귀 단어의 비율: 65.62744630883904\n",
      "전체 등장 빈도에서 희귀 단어 등장 빈도 비율: 4.960005814399522\n"
     ]
    }
   ],
   "source": [
    "threshold = 6\n",
    "total_cnt = len(tar_tokenizer.word_index) # 단어의 수\n",
    "rare_cnt = 0 # 등장 빈도수가 threshold보다 작은 단어의 개수를 카운트\n",
    "total_freq = 0 # 훈련 데이터의 전체 단어 빈도수 총 합\n",
    "rare_freq = 0 # 등장 빈도수가 threshold보다 작은 단어의 등장 빈도수의 총 합\n",
    "\n",
    "# 단어와 빈도수의 쌍(pair)을 key와 value로 받는다.\n",
    "for key, value in tar_tokenizer.word_counts.items():\n",
    "    total_freq = total_freq + value\n",
    "\n",
    "    # 단어의 등장 빈도수가 threshold보다 작으면\n",
    "    if(value < threshold):\n",
    "        rare_cnt = rare_cnt + 1\n",
    "        rare_freq = rare_freq + value\n",
    "\n",
    "print('단어 집합(vocabulary)의 크기 :', total_cnt)\n",
    "print('등장 빈도가 %s번 이하인 희귀 단어의 수: %s'%(threshold - 1, rare_cnt))\n",
    "print('단어 집합에서 희귀 단어를 제외시킬 경우의 단어 집합의 크기 %s'%(total_cnt - rare_cnt))\n",
    "print(\"단어 집합에서 희귀 단어의 비율:\", (rare_cnt / total_cnt)*100)\n",
    "print(\"전체 등장 빈도에서 희귀 단어 등장 빈도 비율:\", (rare_freq / total_freq)*100)"
   ]
  },
  {
   "cell_type": "code",
   "execution_count": 32,
   "id": "f28fe229",
   "metadata": {},
   "outputs": [
    {
     "name": "stdout",
     "output_type": "stream",
     "text": [
      "input\n",
      "input  [[1, 229, 3818, 3, 60, 1590, 725, 57, 2429, 18966, 15038], [1, 27, 41, 3312, 4452, 1428, 3819, 11, 6577], [1, 800, 8499, 10101, 933, 529, 71, 157, 145], [1, 20, 3377, 137, 88, 3378, 2430, 530], [1, 3313, 6578, 17, 37, 3231, 6, 427, 496, 4055]]\n",
      "target\n",
      "decoder  [[229, 3818, 3, 60, 1590, 725, 57, 2429, 18966, 15038, 2], [27, 41, 3312, 4452, 1428, 3819, 11, 6577, 2], [800, 8499, 10101, 933, 529, 71, 157, 145, 2], [20, 3377, 137, 88, 3378, 2430, 530, 2], [3313, 6578, 17, 37, 3231, 6, 427, 496, 4055, 2]]\n"
     ]
    }
   ],
   "source": [
    "tar_vocab = 29000\n",
    "tar_tokenizer = Tokenizer(num_words=tar_vocab) \n",
    "tar_tokenizer.fit_on_texts(decoder_input_train)\n",
    "tar_tokenizer.fit_on_texts(decoder_target_train)\n",
    "\n",
    "# 텍스트 시퀀스를 정수 시퀀스로 변환\n",
    "decoder_input_train = tar_tokenizer.texts_to_sequences(decoder_input_train) \n",
    "decoder_target_train = tar_tokenizer.texts_to_sequences(decoder_target_train)\n",
    "decoder_input_test = tar_tokenizer.texts_to_sequences(decoder_input_test)\n",
    "decoder_target_test = tar_tokenizer.texts_to_sequences(decoder_target_test)\n",
    "\n",
    "# 잘 변환되었는지 확인\n",
    "print('input')\n",
    "print('input ',decoder_input_train[:5])\n",
    "print('target')\n",
    "print('decoder ',decoder_target_train[:5])"
   ]
  },
  {
   "cell_type": "code",
   "execution_count": 33,
   "id": "a2bd6880",
   "metadata": {},
   "outputs": [
    {
     "name": "stdout",
     "output_type": "stream",
     "text": [
      "삭제할 훈련 데이터의 개수 : 0\n",
      "삭제할 테스트 데이터의 개수 : 0\n",
      "훈련 데이터의 개수 : 73344\n",
      "훈련 레이블의 개수 : 73344\n",
      "테스트 데이터의 개수 : 18335\n",
      "테스트 레이블의 개수 : 18335\n"
     ]
    }
   ],
   "source": [
    "drop_train = [index for index, sentence in enumerate(decoder_input_train) if len(sentence) == 1]\n",
    "drop_test = [index for index, sentence in enumerate(decoder_input_test) if len(sentence) == 1]\n",
    "\n",
    "print('삭제할 훈련 데이터의 개수 :', len(drop_train))\n",
    "print('삭제할 테스트 데이터의 개수 :', len(drop_test))\n",
    "\n",
    "encoder_input_train = [sentence for index, sentence in enumerate(encoder_input_train) if index not in drop_train]\n",
    "decoder_input_train = [sentence for index, sentence in enumerate(decoder_input_train) if index not in drop_train]\n",
    "decoder_target_train = [sentence for index, sentence in enumerate(decoder_target_train) if index not in drop_train]\n",
    "\n",
    "encoder_input_test = [sentence for index, sentence in enumerate(encoder_input_test) if index not in drop_test]\n",
    "decoder_input_test = [sentence for index, sentence in enumerate(decoder_input_test) if index not in drop_test]\n",
    "decoder_target_test = [sentence for index, sentence in enumerate(decoder_target_test) if index not in drop_test]\n",
    "\n",
    "print('훈련 데이터의 개수 :', len(encoder_input_train))\n",
    "print('훈련 레이블의 개수 :', len(decoder_input_train))\n",
    "print('테스트 데이터의 개수 :', len(encoder_input_test))\n",
    "print('테스트 레이블의 개수 :', len(decoder_input_test))"
   ]
  },
  {
   "cell_type": "code",
   "execution_count": 35,
   "id": "8b7fc2b4",
   "metadata": {},
   "outputs": [],
   "source": [
    "encoder_input_train = pad_sequences(encoder_input_train, maxlen=text_max_len, padding='pre')\n",
    "encoder_input_test = pad_sequences(encoder_input_test, maxlen=text_max_len, padding='pre')\n",
    "decoder_input_train = pad_sequences(decoder_input_train, maxlen=headlines_max_len, padding='pre')\n",
    "decoder_target_train = pad_sequences(decoder_target_train, maxlen=headlines_max_len, padding='pre')\n",
    "decoder_input_test = pad_sequences(decoder_input_test, maxlen=headlines_max_len, padding='pre')\n",
    "decoder_target_test = pad_sequences(decoder_target_test, maxlen=headlines_max_len, padding='pre')"
   ]
  },
  {
   "cell_type": "code",
   "execution_count": 36,
   "id": "0ea76f55",
   "metadata": {},
   "outputs": [
    {
     "name": "stdout",
     "output_type": "stream",
     "text": [
      "WARNING:tensorflow:Layer lstm will not use cuDNN kernels since it doesn't meet the criteria. It will use a generic GPU kernel as fallback when running on GPU.\n"
     ]
    }
   ],
   "source": [
    "from tensorflow.keras.layers import Input, LSTM, Embedding, Dense, Concatenate, TimeDistributed\n",
    "from tensorflow.keras.models import Model\n",
    "from tensorflow.keras.callbacks import EarlyStopping, ModelCheckpoint\n",
    "\n",
    "\n",
    "# 인코더 설계 시작\n",
    "embedding_dim = 128\n",
    "hidden_size = 256\n",
    "\n",
    "# 인코더\n",
    "encoder_inputs = Input(shape=(text_max_len,))\n",
    "\n",
    "# 인코더의 임베딩 층\n",
    "enc_emb = Embedding(src_vocab, embedding_dim)(encoder_inputs)\n",
    "\n",
    "# 인코더의 LSTM 1\n",
    "encoder_lstm1 = LSTM(hidden_size, return_sequences=True, return_state=True ,dropout = 0.4, recurrent_dropout = 0.4)\n",
    "encoder_output1, state_h1, state_c1 = encoder_lstm1(enc_emb)\n",
    "\n",
    "# 인코더의 LSTM 2\n",
    "encoder_lstm2 = LSTM(hidden_size, return_sequences=True, return_state=True, dropout=0.4)\n",
    "encoder_output2, state_h2, state_c2 = encoder_lstm2(encoder_output1)\n",
    "\n",
    "# 인코더의 LSTM 3\n",
    "encoder_lstm3 = LSTM(hidden_size, return_state=True, return_sequences=True, dropout=0.4)\n",
    "encoder_outputs, state_h3, state_c3 = encoder_lstm3(encoder_output2)\n",
    "\n",
    "# 최종 상태는 디코더로 전달됩니다.\n",
    "state_h, state_c = state_h3, state_c3"
   ]
  },
  {
   "cell_type": "code",
   "execution_count": 37,
   "id": "a3f423c6",
   "metadata": {},
   "outputs": [
    {
     "name": "stdout",
     "output_type": "stream",
     "text": [
      "WARNING:tensorflow:Layer lstm_3 will not use cuDNN kernels since it doesn't meet the criteria. It will use a generic GPU kernel as fallback when running on GPU.\n"
     ]
    }
   ],
   "source": [
    "# 디코더 설계\n",
    "decoder_inputs = Input(shape=(None,))\n",
    "\n",
    "# 디코더의 임베딩 층\n",
    "dec_emb_layer = Embedding(tar_vocab, embedding_dim)\n",
    "dec_emb = dec_emb_layer(decoder_inputs)\n",
    "\n",
    "# 디코더의 LSTM\n",
    "decoder_lstm = LSTM(hidden_size, return_sequences=True, return_state=True, dropout=0.4, recurrent_dropout=0.2)\n",
    "decoder_outputs, _, _ = decoder_lstm(dec_emb, initial_state=[state_h, state_c])"
   ]
  },
  {
   "cell_type": "code",
   "execution_count": 38,
   "id": "7500e673",
   "metadata": {},
   "outputs": [
    {
     "name": "stdout",
     "output_type": "stream",
     "text": [
      "Model: \"model\"\n",
      "__________________________________________________________________________________________________\n",
      "Layer (type)                    Output Shape         Param #     Connected to                     \n",
      "==================================================================================================\n",
      "input_1 (InputLayer)            [(None, 43)]         0                                            \n",
      "__________________________________________________________________________________________________\n",
      "embedding (Embedding)           (None, 43, 128)      8576000     input_1[0][0]                    \n",
      "__________________________________________________________________________________________________\n",
      "lstm (LSTM)                     [(None, 43, 256), (N 394240      embedding[0][0]                  \n",
      "__________________________________________________________________________________________________\n",
      "input_2 (InputLayer)            [(None, None)]       0                                            \n",
      "__________________________________________________________________________________________________\n",
      "lstm_1 (LSTM)                   [(None, 43, 256), (N 525312      lstm[0][0]                       \n",
      "__________________________________________________________________________________________________\n",
      "embedding_1 (Embedding)         (None, None, 128)    3712000     input_2[0][0]                    \n",
      "__________________________________________________________________________________________________\n",
      "lstm_2 (LSTM)                   [(None, 43, 256), (N 525312      lstm_1[0][0]                     \n",
      "__________________________________________________________________________________________________\n",
      "lstm_3 (LSTM)                   [(None, None, 256),  394240      embedding_1[0][0]                \n",
      "                                                                 lstm_2[0][1]                     \n",
      "                                                                 lstm_2[0][2]                     \n",
      "__________________________________________________________________________________________________\n",
      "dense (Dense)                   (None, None, 29000)  7453000     lstm_3[0][0]                     \n",
      "==================================================================================================\n",
      "Total params: 21,580,104\n",
      "Trainable params: 21,580,104\n",
      "Non-trainable params: 0\n",
      "__________________________________________________________________________________________________\n"
     ]
    }
   ],
   "source": [
    "# 디코더의 출력층\n",
    "decoder_softmax_layer = Dense(tar_vocab, activation='softmax')\n",
    "decoder_softmax_outputs = decoder_softmax_layer(decoder_outputs) \n",
    "\n",
    "# 모델 정의\n",
    "model = Model([encoder_inputs, decoder_inputs], decoder_softmax_outputs)\n",
    "model.summary()"
   ]
  },
  {
   "cell_type": "code",
   "execution_count": 39,
   "id": "e9d65564",
   "metadata": {},
   "outputs": [
    {
     "name": "stdout",
     "output_type": "stream",
     "text": [
      "Model: \"model_1\"\n",
      "__________________________________________________________________________________________________\n",
      "Layer (type)                    Output Shape         Param #     Connected to                     \n",
      "==================================================================================================\n",
      "input_1 (InputLayer)            [(None, 43)]         0                                            \n",
      "__________________________________________________________________________________________________\n",
      "embedding (Embedding)           (None, 43, 128)      8576000     input_1[0][0]                    \n",
      "__________________________________________________________________________________________________\n",
      "lstm (LSTM)                     [(None, 43, 256), (N 394240      embedding[0][0]                  \n",
      "__________________________________________________________________________________________________\n",
      "input_2 (InputLayer)            [(None, None)]       0                                            \n",
      "__________________________________________________________________________________________________\n",
      "lstm_1 (LSTM)                   [(None, 43, 256), (N 525312      lstm[0][0]                       \n",
      "__________________________________________________________________________________________________\n",
      "embedding_1 (Embedding)         (None, None, 128)    3712000     input_2[0][0]                    \n",
      "__________________________________________________________________________________________________\n",
      "lstm_2 (LSTM)                   [(None, 43, 256), (N 525312      lstm_1[0][0]                     \n",
      "__________________________________________________________________________________________________\n",
      "lstm_3 (LSTM)                   [(None, None, 256),  394240      embedding_1[0][0]                \n",
      "                                                                 lstm_2[0][1]                     \n",
      "                                                                 lstm_2[0][2]                     \n",
      "__________________________________________________________________________________________________\n",
      "attention_layer (AdditiveAttent (None, None, 256)    256         lstm_3[0][0]                     \n",
      "                                                                 lstm_2[0][0]                     \n",
      "__________________________________________________________________________________________________\n",
      "concat_layer (Concatenate)      (None, None, 512)    0           lstm_3[0][0]                     \n",
      "                                                                 attention_layer[0][0]            \n",
      "__________________________________________________________________________________________________\n",
      "dense_1 (Dense)                 (None, None, 29000)  14877000    concat_layer[0][0]               \n",
      "==================================================================================================\n",
      "Total params: 29,004,360\n",
      "Trainable params: 29,004,360\n",
      "Non-trainable params: 0\n",
      "__________________________________________________________________________________________________\n"
     ]
    }
   ],
   "source": [
    "from tensorflow.keras.layers import AdditiveAttention\n",
    "\n",
    "# 어텐션 층(어텐션 함수)\n",
    "attn_layer = AdditiveAttention(name='attention_layer')\n",
    "\n",
    "# 인코더와 디코더의 모든 time step의 hidden state를 어텐션 층에 전달하고 결과를 리턴\n",
    "attn_out = attn_layer([decoder_outputs, encoder_outputs])\n",
    "\n",
    "# 어텐션의 결과와 디코더의 hidden state들을 연결\n",
    "decoder_concat_input = Concatenate(axis=-1, name='concat_layer')([decoder_outputs, attn_out])\n",
    "\n",
    "# 디코더의 출력층\n",
    "decoder_softmax_layer = Dense(tar_vocab, activation='softmax')\n",
    "decoder_softmax_outputs = decoder_softmax_layer(decoder_concat_input)\n",
    "\n",
    "# 모델 정의\n",
    "model = Model([encoder_inputs, decoder_inputs], decoder_softmax_outputs)\n",
    "model.summary()"
   ]
  },
  {
   "cell_type": "code",
   "execution_count": 40,
   "id": "ef6fbd38",
   "metadata": {},
   "outputs": [
    {
     "name": "stdout",
     "output_type": "stream",
     "text": [
      "Epoch 1/50\n",
      "287/287 [==============================] - 99s 315ms/step - loss: 6.6987 - val_loss: 6.0893\n",
      "Epoch 2/50\n",
      "287/287 [==============================] - 93s 323ms/step - loss: 6.1241 - val_loss: 5.8943\n",
      "Epoch 3/50\n",
      "287/287 [==============================] - 96s 336ms/step - loss: 5.8702 - val_loss: 5.6937\n",
      "Epoch 4/50\n",
      "287/287 [==============================] - 95s 332ms/step - loss: 5.6316 - val_loss: 5.5391\n",
      "Epoch 5/50\n",
      "287/287 [==============================] - 95s 332ms/step - loss: 5.4182 - val_loss: 5.3715\n",
      "Epoch 6/50\n",
      "287/287 [==============================] - 95s 331ms/step - loss: 5.1137 - val_loss: 5.0694\n",
      "Epoch 7/50\n",
      "287/287 [==============================] - 95s 331ms/step - loss: 4.7451 - val_loss: 4.7913\n",
      "Epoch 8/50\n",
      "287/287 [==============================] - 95s 331ms/step - loss: 4.3833 - val_loss: 4.6018\n",
      "Epoch 9/50\n",
      "287/287 [==============================] - 95s 331ms/step - loss: 4.0658 - val_loss: 4.4760\n",
      "Epoch 10/50\n",
      "287/287 [==============================] - 94s 328ms/step - loss: 3.7896 - val_loss: 4.3960\n",
      "Epoch 11/50\n",
      "287/287 [==============================] - 94s 329ms/step - loss: 3.5501 - val_loss: 4.3531\n",
      "Epoch 12/50\n",
      "287/287 [==============================] - 94s 326ms/step - loss: 3.3436 - val_loss: 4.3230\n",
      "Epoch 13/50\n",
      "287/287 [==============================] - 94s 326ms/step - loss: 3.1682 - val_loss: 4.3060\n",
      "Epoch 14/50\n",
      "287/287 [==============================] - 93s 326ms/step - loss: 3.0145 - val_loss: 4.2977\n",
      "Epoch 15/50\n",
      "287/287 [==============================] - 93s 325ms/step - loss: 2.8820 - val_loss: 4.2970\n",
      "Epoch 16/50\n",
      "287/287 [==============================] - 93s 325ms/step - loss: 2.7623 - val_loss: 4.3031\n",
      "Epoch 17/50\n",
      "287/287 [==============================] - 94s 326ms/step - loss: 2.6551 - val_loss: 4.3148\n",
      "Epoch 00017: early stopping\n"
     ]
    }
   ],
   "source": [
    "model.compile(optimizer='adam', loss='sparse_categorical_crossentropy')\n",
    "es = EarlyStopping(monitor='val_loss', patience=2, verbose=1)\n",
    "history = model.fit(x=[encoder_input_train, decoder_input_train], y=decoder_target_train, \\\n",
    "          validation_data=([encoder_input_test, decoder_input_test], decoder_target_test), \\\n",
    "          batch_size=256, callbacks=[es], epochs=50)"
   ]
  },
  {
   "cell_type": "code",
   "execution_count": 41,
   "id": "0f54b2ee",
   "metadata": {},
   "outputs": [
    {
     "data": {
      "image/png": "[encoded data removed]",
      "text/plain": [
       "<Figure size 432x288 with 1 Axes>"
      ]
     },
     "metadata": {
      "needs_background": "light"
     },
     "output_type": "display_data"
    }
   ],
   "source": [
    "plt.plot(history.history['loss'], label='train')\n",
    "plt.plot(history.history['val_loss'], label='test')\n",
    "plt.legend()\n",
    "plt.show()"
   ]
  },
  {
   "cell_type": "code",
   "execution_count": 42,
   "id": "09180e68",
   "metadata": {},
   "outputs": [],
   "source": [
    "src_index_to_word = src_tokenizer.index_word # 원문 단어 집합에서 정수 -> 단어를 얻음\n",
    "tar_word_to_index = tar_tokenizer.word_index # 요약 단어 집합에서 단어 -> 정수를 얻음\n",
    "tar_index_to_word = tar_tokenizer.index_word # 요약 단어 집합에서 정수 -> 단어를 얻음"
   ]
  },
  {
   "cell_type": "code",
   "execution_count": 43,
   "id": "0d2c86e5",
   "metadata": {},
   "outputs": [],
   "source": [
    "# 인코더 설계\n",
    "encoder_model = Model(inputs=encoder_inputs, outputs=[encoder_outputs, state_h, state_c])\n",
    "\n",
    "# 이전 시점의 상태들을 저장하는 텐서\n",
    "decoder_state_input_h = Input(shape=(hidden_size,))\n",
    "decoder_state_input_c = Input(shape=(hidden_size,))\n",
    "\n",
    "dec_emb2 = dec_emb_layer(decoder_inputs)\n",
    "\n",
    "# 문장의 다음 단어를 예측하기 위해서 초기 상태(initial_state)를 이전 시점의 상태로 사용. 이는 뒤의 함수 decode_sequence()에 구현\n",
    "# 훈련 과정에서와 달리 LSTM의 리턴하는 은닉 상태와 셀 상태인 state_h와 state_c를 버리지 않음.\n",
    "decoder_outputs2, state_h2, state_c2 = decoder_lstm(dec_emb2, initial_state=[decoder_state_input_h, decoder_state_input_c])"
   ]
  },
  {
   "cell_type": "code",
   "execution_count": 44,
   "id": "41d07c78",
   "metadata": {},
   "outputs": [],
   "source": [
    "# 어텐션 함수\n",
    "decoder_hidden_state_input = Input(shape=(text_max_len, hidden_size))\n",
    "attn_out_inf = attn_layer([decoder_outputs2, decoder_hidden_state_input])\n",
    "decoder_inf_concat = Concatenate(axis=-1, name='concat')([decoder_outputs2, attn_out_inf])\n",
    "\n",
    "# 디코더의 출력층\n",
    "decoder_outputs2 = decoder_softmax_layer(decoder_inf_concat) \n",
    "\n",
    "# 최종 디코더 모델\n",
    "decoder_model = Model(\n",
    "    [decoder_inputs] + [decoder_hidden_state_input,decoder_state_input_h, decoder_state_input_c],\n",
    "    [decoder_outputs2] + [state_h2, state_c2])"
   ]
  },
  {
   "cell_type": "code",
   "execution_count": 48,
   "id": "bf224e22",
   "metadata": {},
   "outputs": [],
   "source": [
    "def decode_sequence(input_seq):\n",
    "    # 입력으로부터 인코더의 상태를 얻음\n",
    "    e_out, e_h, e_c = encoder_model.predict(input_seq)\n",
    "\n",
    "     # <SOS>에 해당하는 토큰 생성\n",
    "    target_seq = np.zeros((1,1))\n",
    "    target_seq[0, 0] = tar_word_to_index['sostoken']\n",
    "\n",
    "    stop_condition = False\n",
    "    decoded_sentence = ''\n",
    "    while not stop_condition: # stop_condition이 True가 될 때까지 루프 반복\n",
    "\n",
    "        output_tokens, h, c = decoder_model.predict([target_seq] + [e_out, e_h, e_c])\n",
    "        sampled_token_index = np.argmax(output_tokens[0, -1, :])\n",
    "        sampled_token = tar_index_to_word[sampled_token_index]\n",
    "\n",
    "        if (sampled_token!='eostoken'):\n",
    "            decoded_sentence += ' '+sampled_token\n",
    "\n",
    "        #  <eos>에 도달하거나 최대 길이를 넘으면 중단.\n",
    "        if (sampled_token == 'eostoken'  or len(decoded_sentence.split()) >= (headlines_max_len-1)):\n",
    "            stop_condition = True\n",
    "\n",
    "        # 길이가 1인 타겟 시퀀스를 업데이트\n",
    "        target_seq = np.zeros((1,1))\n",
    "        target_seq[0, 0] = sampled_token_index\n",
    "\n",
    "        # 상태를 업데이트 합니다.\n",
    "        e_h, e_c = h, c\n",
    "\n",
    "    return decoded_sentence"
   ]
  },
  {
   "cell_type": "code",
   "execution_count": 49,
   "id": "8aa4c508",
   "metadata": {},
   "outputs": [],
   "source": [
    "# 원문의 정수 시퀀스를 텍스트 시퀀스로 변환\n",
    "def seq2text(input_seq):\n",
    "    temp=''\n",
    "    for i in input_seq:\n",
    "        if (i!=0):\n",
    "            temp = temp + src_index_to_word[i]+' '\n",
    "    return temp\n",
    "\n",
    "def seq2summary(input_seq):\n",
    "    temp = ''\n",
    "    for i in input_seq:\n",
    "        if (i == 0):  \n",
    "            continue\n",
    "        if (i == tar_word_to_index['sostoken']):  \n",
    "            continue\n",
    "        if (i == tar_word_to_index['eostoken']):  \n",
    "            break\n",
    "        temp = temp + tar_index_to_word[i] + ' '  \n",
    "    return temp.strip()"
   ]
  },
  {
   "cell_type": "code",
   "execution_count": 50,
   "id": "d3b0ed6e",
   "metadata": {},
   "outputs": [
    {
     "name": "stdout",
     "output_type": "stream",
     "text": [
      "원문 : janata dal rebel leader sharad yadav tuesday removed chairman parliamentary standing committee industry reportedly due yadav alleged anti party activities stand jd chief nitish kumar decision ally bjp rcp singh close aide nitish kumar succeeded sharad yadav post \n",
      "실제 요약 : sharad yadav removed as chairman of parliamentary committee\n",
      "예측 요약 :  jd leader quits as ram rajya sabha chief justice party\n",
      "\n",
      "\n",
      "원문 : left arm fast bowler khaleel ahmed registered figures first ever odi hong kong tuesday coincidentally year old pacer idol zaheer khan also recorded figures debut kenya champions trophy want retire wicket zaheer ahmed jokingly said receiving team india call \n",
      "실제 요약 : ahmed posts same figures what his idol zaheer registered on debut\n",
      "예측 요약 :  javagal srinath picked record for most int int cricket match\n",
      "\n",
      "\n",
      "원문 : woman arrested allegedly forcing year old niece get drunk letting boyfriend rape wooded area delhi child father rushed hospital noticing bleeding pain aunt used take care child mother abandoned family police said \n",
      "실제 요약 : delhi woman gets minor niece drunk lets boyfriend rape her\n",
      "예측 요약 :  delhi woman arrested for raping woman in delhi for dowry\n",
      "\n",
      "\n",
      "원문 : two dinosaur skeletons purchased buyer million euros apiece auction paris wednesday skeletons featured metre long herbivore carnivorous measuring metres nose tail two dinosaurs roamed earth late jurassic period around million years ago \n",
      "실제 요약 : two dinosaur skeletons sell for crore each in paris\n",
      "예측 요약 :  mona lisa unveils world smallest mona lisa on the world\n",
      "\n",
      "\n",
      "원문 : cristiano ronaldo six year old son cristiano ronaldo jr scored free kick junior football match spain video shared real madrid winger instagram ronaldo jr foul took stance similar father taking kick scoring proud little man goal wrote ronaldo \n",
      "실제 요약 : cristiano ronaldo son scores ronaldo like free kick\n",
      "예측 요약 :  ronaldo scores goals in real madrid to win juventus win\n",
      "\n",
      "\n",
      "원문 : bengaluru man caught cctv camera stealing wearing women undergarments left terrace girls hostel dry caught police accused identified year old abu employee bangalore turf club police found trunk full women clothing residence \n",
      "실제 요약 : luru man who was caught on cctv stealing lingerie arrested\n",
      "예측 요약 :  man held for molesting man for stealing mobile in underwear\n",
      "\n",
      "\n",
      "원문 : cisco systems monday said acquire us software company deal valued billion including debt acquisition expected close first quarter company said statement cisco second major acquisition year following billion deal march \n",
      "실제 요약 : cisco buys us software company for billion\n",
      "예측 요약 :  accenture to buy stake in hazira billion valuation of bn\n",
      "\n",
      "\n",
      "원문 : group florida fishermen claimed apple voice assistant siri helped saving lives boat hit rough sea wet fingers men unable use phone touchscreen one fishermen used siri iphone call fishermen rescued coast guard \n",
      "실제 요약 : florida fishermen claim apple siri helped save their lives\n",
      "예측 요약 :  apple sued by apple for owning toy toy in kerala\n",
      "\n",
      "\n",
      "원문 : us district judge william court hearing wednesday called google spinoff waymo greedy asking right argue earlier dropped violations uber judge also called uber lawyers misleading court time time uber lawyers delayed responding request documents including files allegedly stolen google \n",
      "실제 요약 : us judge slams google spinoff waymo for being greedy\n",
      "예측 요약 :  google court bans investigation of anti diversity memo in court\n",
      "\n",
      "\n",
      "원문 : indian air force sukhoi fighter aircraft went missing tuesday found wrecked state friday close last known position assam however sign survivors aircraft gone routine training mission two pilots onboard later went radar near china border \n",
      "실제 요약 : wreckage of missing iaf aircraft found no sign of survivors\n",
      "예측 요약 :  iaf pilot who missed pilot who died in air india\n",
      "\n",
      "\n",
      "원문 : scientist wife lost crore one biggest online scams bengaluru according police scientist paid huge sums money claim crore online lottery prize death wife continued payments informed could claim lottery money instead \n",
      "실제 요약 : bengaluru couple lose cr in online lottery scam\n",
      "예측 요약 :  man sells cr for cr in cr for crore fraud\n",
      "\n",
      "\n",
      "원문 : delhi police fined people smoking public special drive carried four separate days south southeast delhi areas drive initiated several activists apprised department unsatisfactory enforcement law made public smoking punishable fine \n",
      "실제 요약 : delhi police fines over people for smoking in public\n",
      "예측 요약 :  delhi police to deploy traffic for women in traffic congestion\n",
      "\n",
      "\n",
      "원문 : banned cricketer sreesanth finished runner reality tv show bigg boss said wants work hollywood director steven spielberg whether small role big hollywood movie lifetime experience always believe anything happen look life journey miracle added \n",
      "실제 요약 : want to work with hollywood director steven spielberg sreesanth\n",
      "예측 요약 :  bigg boss sourabh patel to star in bigg boss reports\n",
      "\n",
      "\n",
      "원문 : england rounder ben stokes scored test career sixth hundred windies friday described moment getting dropped shannon gabriel brain fart quite sure thinking well need luck every added stokes dropped nine well \n",
      "실제 요약 : stokes survives brain fart on to score th test hundred\n",
      "예측 요약 :  felt like my name in my name dale steyn jadeja\n",
      "\n",
      "\n",
      "원문 : indian army saturday said averted major terror attack seized huge cache arms ammunition kathua district jammu kashmir two ak assault rifles hand grenade four magazines rounds rounds sniper ammunition seized operation operation launched following inputs military intelligence \n",
      "실제 요약 : major terror attack averted of arms seized in army\n",
      "예측 요약 :  army major musa found in doda freezes probe in pathankot\n",
      "\n",
      "\n",
      "원문 : singer justin bieber beaten record held iconic english band beatles since two top billboard songs consecutive weeks bieber featured artist songs despacito one currently ranked first third billboard hot chart songs top five weeks \n",
      "실제 요약 : bieber beats billboard record held by the beatles since\n",
      "예측 요약 :  comic golfer once named after yrs of fame in yrs\n",
      "\n",
      "\n",
      "원문 : security forces jammu kashmir killed terrorists till july year making highest number killings january july period seven years earlier highest number militants killed january july terrorists killed period \n",
      "실제 요약 : terrorists killed in till july highest in years\n",
      "예측 요약 :  army forces to give each to give each other army\n",
      "\n",
      "\n",
      "원문 : newly appointed uttar pradesh chief minister yogi adityanath wednesday banned consumption gutkha paan paan masala government offices across state order reportedly passed adityanath spotted gutkha stained walls staircases old cm office earlier day also ordered ban cattle smuggling state \n",
      "실제 요약 : up cm orders ban on gutkha paan masala in govt offices\n",
      "예측 요약 :  up cm yogi adityanath bans renaming of vande mataram yogi\n",
      "\n",
      "\n",
      "원문 : bengaluru based printing retail chain acquired delhi based rival print bazaar stock deal deal reportedly valued print bazaar around million marked second acquisition acquiring photo service firm million founded provides products like business cards diaries invitation cards \n",
      "실제 요약 : printing retail chain acquires rival print bazaar\n",
      "예측 요약 :  oyo raises cr in series funding round in series funding\n",
      "\n",
      "\n",
      "원문 : former cricketer virender sehwag claimed ex india captain sourav ganguly sacrifice batting spot give ms dhoni chance bat higher order one reasons behind latter success speaking ganguly tendency experiment batting order sehwag said ganguly always believed giving chances new players \n",
      "실제 요약 : ganguly sacrifice reason behind dhoni success sehwag\n",
      "예측 요약 :  ganguly ganguly ganguly ganguly ganguly to play in ipl final\n",
      "\n",
      "\n",
      "원문 : europe based study suggests possible alien observer might able detect earth using exoplanet discovering methods researchers found least nine exoplanets ideally placed observe earth around sun astronomers discovered several exoplanets studying dips host star brightness planet passes front \n",
      "실제 요약 : other worlds could spot earth using human made methods\n",
      "예측 요약 :  new planets may be used to detect comets from study\n",
      "\n",
      "\n",
      "원문 : chrome extension called block allows users block character tweets hiding tweet falls character limit created conor browne also lets users reopen blocked tweets week twitter announced testing bigger character limit tweets users instead \n",
      "실제 요약 : chrome extension allows users to block character tweets\n",
      "예측 요약 :  twitter users react to lack of shutting down on twitter\n",
      "\n",
      "\n",
      "원문 : sonakshi sinha said present times audience open seeing women perform heroic acts screen adding earlier wanted see men case anymore said shooting akira director ar murugadoss treated way treated akshay kumar sets holiday \n",
      "실제 요약 : audience is open to actress performing heroic acts sonakshi\n",
      "예측 요약 :  sonakshi to be called by women in the forefront sonakshi\n",
      "\n",
      "\n",
      "원문 : man named timothy buchanan california claimed real life spider got stuck imac glass display screen suspected spider must reached monitor crawling vents back computer something apple foreseen possibility said \n",
      "실제 요약 : real life spider gets stuck inside an imac screen\n",
      "예측 요약 :  man finds diarrhoea finds it was stuck in spider man\n",
      "\n",
      "\n",
      "원문 : gujarat headquartered stent maker medical technologies raised million funding round led financial services firm morgan stanley company said private equity firm samara capital also participated round founded smt manufactures precision engineered cardiac products along coronary stents renal stents \n",
      "실제 요약 : maker raises mn from morgan stanley\n",
      "예측 요약 :  nomura group owner gets mn in damages by selling products\n",
      "\n",
      "\n",
      "원문 : delhi based startup named fur ball story provides pet therapy bust stress corporate offices hospitals educational institutes even residences taking dogs places people places allowed play dogs recreation founded december startup currently three dogs \n",
      "실제 요약 : startup provides pet therapy with dogs to bust stress\n",
      "예측 요약 :  startup makes smart eye shaker that can be made awareness\n",
      "\n",
      "\n",
      "원문 : rbi group looking cryptocurrencies legal tender uncomfortable bitcoins rbi executive director sudarshan sen said regards non fiat cryptocurrencies think comfortable sen stated notably rbi repeatedly cautioned virtual currencies stating pose potential financial legal security related risks \n",
      "실제 요약 : not comfortable with bitcoins rbi\n",
      "예측 요약 :  bitcoin is not done like pain says it is cryptocurrencies\n",
      "\n",
      "\n",
      "원문 : egypt antiquities ministry wednesday said archaeologists uncovered ancient tombs dating back second intermediate period bc nile delta burial sites dating back period also found kilometres north cairo tombs contain ancient animal remains stone artefacts pottery fragments drawings ministry revealed \n",
      "실제 요약 : archaeologists find ancient tombs in nile delta egypt\n",
      "예측 요약 :  mona lisa was the most skull of the year discovered\n",
      "\n",
      "\n",
      "원문 : ayushmann khurrana tabu starrer andhadhun named top indian movie global film tv website imdb website wednesday released names india top ten movies based imdb customer ratings akshay kumar padman sixth list alia bhatt starrer raazi landed ninth position \n",
      "실제 요약 : ayushmann starrer andhadhun named top indian movie by imdb\n",
      "예측 요약 :  celebs to star in film based on april web series\n",
      "\n",
      "\n",
      "원문 : enforcement directorate approached interpol locate fraud accused jeweller nirav modi family left india first week january reports said wanted india allegedly defrauding pnb billion agency far seized attached assets nirav uncle mehul choksi worth crore \n",
      "실제 요약 : ed approaches interpol to locate nirav modi and his family\n",
      "예측 요약 :  nirav modi moved to nirav modi in nirav modi reports\n",
      "\n",
      "\n",
      "원문 : social media major facebook denied reports claiming actively asking us banks details users financial transactions statement facebook said partners banks credit card companies offer customer service account management features within messenger app data accessed facebook purposes used advertising added \n",
      "실제 요약 : facebook denies seeking users financial data from us banks\n",
      "예측 요약 :  facebook to give data localisation to indian data breach report\n",
      "\n",
      "\n",
      "원문 : maharashtra cm devendra fadnavis provided lakh cm relief fund year old woman suffering breast cancer single mother diagnosed able afford treatment due financial constraints messaged fadnavis year old son found contact details online following replied ok help \n",
      "실제 요약 : maharashtra cm gives from cm fund to cancer patient\n",
      "예측 요약 :  maha cm announces lakh for lakh kg of farmer death\n",
      "\n",
      "\n",
      "원문 : extinct strain human hepatitis virus discovered bronze age human skeletons found burial sites across europe asia among skeletons oldest genome found years old previous oldest genome years old estimates ranged years noted researchers \n",
      "실제 요약 : oldest signs of hepatitis found in year old skeletons\n",
      "예측 요약 :  roman whale found dead in yrs found in yrs found\n",
      "\n",
      "\n",
      "원문 : least sophisticated currency verification processing systems used counting demonetised notes rbi said reply rti query rbi said machines added using machines available commercial banks rbi disclose leasing charges citing commercial confidence \n",
      "실제 요약 : machines being used for counting demonetised notes rbi\n",
      "예측 요약 :  rbi revises notes to be privatised to customers valid notes\n",
      "\n",
      "\n",
      "원문 : family georgia us adopted seven siblings foster care nearly years clark husband already biological son decided want adopt years ago love family difficult would change said \n",
      "실제 요약 : family adopts siblings who were in foster care for yrs\n",
      "예측 요약 :  us woman is not enough for me says family family\n",
      "\n",
      "\n",
      "원문 : china communist party directed nearly crore members give religion maintain party unity face punishment country religious affairs regulator said members party shun religious beliefs firm marxist atheists comes amid claims foreign forces using religion infiltrate china pose serious threats national security \n",
      "실제 요약 : china communist party directs members to give up religion\n",
      "예측 요약 :  china to give crore to pay crore to curb smuggling\n",
      "\n",
      "\n",
      "원문 : industrial pollution turned water near steel plant italian port city red colour iron oxide dust process combined heavy rainfall believed cause red water plant former owners accused negligence toxic emissions ongoing lawsuit \n",
      "실제 요약 : industrial pollution turns water red in italian city\n",
      "예측 요약 :  delhi civic body to be used to clean pollution vehicles\n",
      "\n",
      "\n",
      "원문 : born april german industrialist nazi party member oskar schindler credited sheltering approximately jews holocaust schindler employed jews schindler list factories nazi occupied poland czechoslovakia preventing deportation concentration camps saved jews descendants came known schindler jews \n",
      "실제 요약 : nazi party member saved jews from nazis\n",
      "예측 요약 :  pope francis apologises for nazi nazi statue in germany in\n",
      "\n",
      "\n",
      "원문 : telephonic conversation un secretary general ant nio guterres pakistan pm imran khan said kashmir bilateral issue pakistan india internationally recognised dispute statement pakistan prime minister office said also proposed appoint special un representative resolution kashmir issue \n",
      "실제 요약 : kashmir not bilateral issue between pakistan and india pak pm\n",
      "예측 요약 :  pak must ensure pak to resolve terror dispute pak envoy\n",
      "\n",
      "\n",
      "원문 : television shows bhabi ji ghar par hai hum paanch adapted anglo spanish british sitcom respectively bhabi ji produced love thy neighbour hum paanch adapted lala produced zee studios international set produce global content audiences across world \n",
      "실제 요약 : bhabi ji to be adapted into anglo spanish sitcom\n",
      "예측 요약 :  carrie fisher mia khalifa par hai par hits the theatres\n",
      "\n",
      "\n",
      "원문 : minister state prime minister office jitendra singh monday slammed pakistan ceasefire violations ramadan adding country calls pakistan indulging activity said indulging firing across border proved least faith ramadan islam holy quran \n",
      "실제 요약 : india slams pakistan over ceasefire violation during ramadan\n",
      "예측 요약 :  pak pm imran khan vows to procure failures pak minister\n",
      "\n",
      "\n",
      "원문 : producer prernaa arora arrested allegedly cheating producer vashu bhagnani crore accused bhagnani threatening family fulfil demands threats family extended taking away place residence read statement released arora team bhagnani accused wrongfully maligning arora business associates \n",
      "실제 요약 : fraud accused prernaa arora says threatened her\n",
      "예측 요약 :  producer prernaa sues cr for cr fraud accused of fraud\n",
      "\n",
      "\n",
      "원문 : norwegian skier therese ban extended five months months doping case involving steroid lip balm ban keep winter olympics february skier failed drug test ingested steroid lip cream given treat burns \n",
      "실제 요약 : olympic skiing champ banned from winter games over lip\n",
      "예측 요약 :  ebola outbreak in europe to be banned for months end\n",
      "\n",
      "\n",
      "원문 : indigo offloaded four kashmiri youths patna delhi flight thursday evening receiving complaints alleged erratic behaviour passenger said heard youths squabbling following one said would sit aircraft cockpit ruling terror angle security agencies released conducting background check screening baggage \n",
      "실제 요약 : indigo offloads youths from plane for behaviour\n",
      "예측 요약 :  delhi police staff threaten to pay staff after bus strike\n",
      "\n",
      "\n",
      "원문 : premier inn belfast northern ireland reportedly asked guests staying world irish dance championships dance elevators notice said dance lifts stop moving stuck get engineer come rescue \n",
      "실제 요약 : hotel asks guests not to dance in elevators\n",
      "예측 요약 :  australia to play world st ever types of continents in\n",
      "\n",
      "\n",
      "원문 : russian base jumper valery rozov set world record jumping mount cho feet died wingsuit accident himalayas saturday year old jumped foot high mount everest region accident occurred july become first person jump peru highest peak huascar \n",
      "실제 요약 : record holder for highest base jump dies in the himalayas\n",
      "예측 요약 :  man fills peak after falling kg in water river building\n",
      "\n",
      "\n",
      "원문 : apple advertising lead ken revealed initially considering alternate names iphone included ipad tripod names considered term iphone bit controversial cisco owned iphone trademark ip based phone system notably apple incorporated january \n",
      "실제 요약 : apple considered naming iphone ipad\n",
      "예측 요약 :  apple to launch iphone with iphone sales in the year\n",
      "\n",
      "\n",
      "원문 : singaporean pm lee hsien loong younger brother sister posted joint six page statement facebook saying lost confidence also accused loong misusing power drive personal agenda pm brother said leaving singapore future added loong reason departure \n",
      "실제 요약 : singapore pm brother to leave country over family feud\n",
      "예측 요약 :  pm modi is not systemic in relations with facebook swaraj\n",
      "\n",
      "\n",
      "원문 : group astronomers identified farthest known object ever discovered solar system nicknamed object provisionally termed vg astronomical units sun vg distant orbits slowly likely taking years take one trip around sun astronomers said \n",
      "실제 요약 : astronomers identify farthest known object in solar system\n",
      "예측 요약 :  uranus on jupiter sun remnants of the sun orbiting sun\n",
      "\n",
      "\n",
      "원문 : actress anushka sharma said diversifying roles like sejal imtiaz ali jab harry met sejal simple girl either serious added imtiaz shah rukh khan also said sejal similar however anushka said finds personality character quite \n",
      "실제 요약 : girl is either or serious anushka on roles\n",
      "예측 요약 :  anushka not sang in wood actress on pari of anushka\n",
      "\n",
      "\n"
     ]
    }
   ],
   "source": [
    "for i in range(50, 100):\n",
    "    print(\"원문 :\", seq2text(encoder_input_test[i]))\n",
    "    print(\"실제 요약 :\", seq2summary(decoder_input_test[i]))\n",
    "    print(\"예측 요약 :\", decode_sequence(encoder_input_test[i].reshape(1, text_max_len)))\n",
    "    print(\"\\n\")"
   ]
  },
  {
   "cell_type": "code",
   "execution_count": 51,
   "id": "88918a4d",
   "metadata": {},
   "outputs": [],
   "source": [
    "import requests\n",
    "from summa.summarizer import summarize"
   ]
  },
  {
   "cell_type": "code",
   "execution_count": 60,
   "id": "8aad15da",
   "metadata": {},
   "outputs": [],
   "source": [
    "# str으로 변환\n",
    "data['text'] = data['text'].astype(str)"
   ]
  },
  {
   "cell_type": "code",
   "execution_count": 63,
   "id": "b82c8b52",
   "metadata": {},
   "outputs": [],
   "source": [
    "def summarize_texts(df, column_name, ratio = 0.2):\n",
    "    summarized_texts = []\n",
    "    \n",
    "    for text in df[column_name]:\n",
    "        if isinstance(text, str) and len(text.strip()) > 0:  # 빈 문자열은 제외\n",
    "            summary = summarize(text, ratio=ratio)\n",
    "            summarized_texts.append(summary)\n",
    "        else:\n",
    "            summarized_texts.append(\"\")  # 빈 값이거나 비문자열일 경우 빈 값 추가\n",
    "    \n",
    "    # 요약된 텍스트를 데이터프레임에 새로운 열로 추가\n",
    "    df['summarized_' + column_name] = summarized_texts\n",
    "    return df"
   ]
  },
  {
   "cell_type": "code",
   "execution_count": 64,
   "id": "9f9931f7",
   "metadata": {},
   "outputs": [],
   "source": [
    "df_summarized = summarize_texts(data, 'text', ratio=0.2)"
   ]
  },
  {
   "cell_type": "code",
   "execution_count": 65,
   "id": "e02cbbab",
   "metadata": {},
   "outputs": [
    {
     "name": "stdout",
     "output_type": "stream",
     "text": [
      "                                               headlines  \\\n",
      "0      upgrad learner switches to career in ml al wit...   \n",
      "2      new zealand end rohit sharma led india match w...   \n",
      "3      aegon life iterm insurance plan helps customer...   \n",
      "5      rahat fateh ali khan denies getting notice for...   \n",
      "7      govt directs alok verma to join work day befor...   \n",
      "...                                                  ...   \n",
      "98395  pakistan starts building fence along afghanist...   \n",
      "98396  crpf jawan axed to death by maoists in chhatti...   \n",
      "98397  first song from sonakshi sinha noor titled uff...   \n",
      "98398              the matrix film to get reboot reports   \n",
      "98400  madhesi morcha withdraws support to nepalese g...   \n",
      "\n",
      "                                                    text  \\\n",
      "0      saurav kant alumnus upgrad iiit pg program mac...   \n",
      "2      new zealand defeated india wickets fourth odi ...   \n",
      "3      aegon life iterm insurance plan customers enjo...   \n",
      "5      pakistani singer rahat fateh ali khan denied r...   \n",
      "7      weeks ex cbi director alok verma told departme...   \n",
      "...                                                  ...   \n",
      "98395  pakistan started building nearly kilometer fen...   \n",
      "98396  crpf jawan tuesday axed death sharp edged weap...   \n",
      "98397  uff yeh first song sonakshi sinha starrer upco...   \n",
      "98398  according reports new version science fiction ...   \n",
      "98400  madhesi morcha alliance seven political partie...   \n",
      "\n",
      "                                           decoder_input  \\\n",
      "0      sostoken upgrad learner switches to career in ...   \n",
      "2      sostoken new zealand end rohit sharma led indi...   \n",
      "3      sostoken aegon life iterm insurance plan helps...   \n",
      "5      sostoken rahat fateh ali khan denies getting n...   \n",
      "7      sostoken govt directs alok verma to join work ...   \n",
      "...                                                  ...   \n",
      "98395  sostoken pakistan starts building fence along ...   \n",
      "98396  sostoken crpf jawan axed to death by maoists i...   \n",
      "98397  sostoken first song from sonakshi sinha noor t...   \n",
      "98398     sostoken the matrix film to get reboot reports   \n",
      "98400  sostoken madhesi morcha withdraws support to n...   \n",
      "\n",
      "                                          decoder_target summarized_text  \n",
      "0      upgrad learner switches to career in ml al wit...                  \n",
      "2      new zealand end rohit sharma led india match w...                  \n",
      "3      aegon life iterm insurance plan helps customer...                  \n",
      "5      rahat fateh ali khan denies getting notice for...                  \n",
      "7      govt directs alok verma to join work day befor...                  \n",
      "...                                                  ...             ...  \n",
      "98395  pakistan starts building fence along afghanist...                  \n",
      "98396  crpf jawan axed to death by maoists in chhatti...                  \n",
      "98397  first song from sonakshi sinha noor titled uff...                  \n",
      "98398     the matrix film to get reboot reports eostoken                  \n",
      "98400  madhesi morcha withdraws support to nepalese g...                  \n",
      "\n",
      "[91679 rows x 5 columns]\n"
     ]
    }
   ],
   "source": [
    "print(df_summarized)"
   ]
  },
  {
   "cell_type": "code",
   "execution_count": 66,
   "id": "7d4a02ed",
   "metadata": {},
   "outputs": [],
   "source": [
    "def summarize_texts_by_words(df, column_name, word_limit=50):\n",
    "    summarized_texts = []\n",
    "    \n",
    "    # 각 행의 텍스트를 요약하여 새로운 리스트에 추가\n",
    "    for text in df[column_name]:\n",
    "        if isinstance(text, str) and len(text.strip()) > 0:  # 빈 문자열 제외\n",
    "            summary = summarize(text, words=word_limit)  # 단어 수로 요약\n",
    "            summarized_texts.append(summary)\n",
    "        else:\n",
    "            summarized_texts.append(\"\")  # 빈 값이거나 비문자열일 경우 빈 값 추가\n",
    "    \n",
    "    # 요약된 텍스트를 데이터프레임에 새로운 열로 추가\n",
    "    df['summarized_' + column_name] = summarized_texts\n",
    "    return df"
   ]
  },
  {
   "cell_type": "code",
   "execution_count": 68,
   "id": "b1e06675",
   "metadata": {},
   "outputs": [],
   "source": [
    "df_summarized = summarize_texts_by_words(data, 'text', word_limit=50)"
   ]
  },
  {
   "cell_type": "code",
   "execution_count": 69,
   "id": "3d08a545",
   "metadata": {},
   "outputs": [
    {
     "name": "stdout",
     "output_type": "stream",
     "text": [
      "                                               headlines  \\\n",
      "0      upgrad learner switches to career in ml al wit...   \n",
      "2      new zealand end rohit sharma led india match w...   \n",
      "3      aegon life iterm insurance plan helps customer...   \n",
      "5      rahat fateh ali khan denies getting notice for...   \n",
      "7      govt directs alok verma to join work day befor...   \n",
      "...                                                  ...   \n",
      "98395  pakistan starts building fence along afghanist...   \n",
      "98396  crpf jawan axed to death by maoists in chhatti...   \n",
      "98397  first song from sonakshi sinha noor titled uff...   \n",
      "98398              the matrix film to get reboot reports   \n",
      "98400  madhesi morcha withdraws support to nepalese g...   \n",
      "\n",
      "                                                    text  \\\n",
      "0      saurav kant alumnus upgrad iiit pg program mac...   \n",
      "2      new zealand defeated india wickets fourth odi ...   \n",
      "3      aegon life iterm insurance plan customers enjo...   \n",
      "5      pakistani singer rahat fateh ali khan denied r...   \n",
      "7      weeks ex cbi director alok verma told departme...   \n",
      "...                                                  ...   \n",
      "98395  pakistan started building nearly kilometer fen...   \n",
      "98396  crpf jawan tuesday axed death sharp edged weap...   \n",
      "98397  uff yeh first song sonakshi sinha starrer upco...   \n",
      "98398  according reports new version science fiction ...   \n",
      "98400  madhesi morcha alliance seven political partie...   \n",
      "\n",
      "                                           decoder_input  \\\n",
      "0      sostoken upgrad learner switches to career in ...   \n",
      "2      sostoken new zealand end rohit sharma led indi...   \n",
      "3      sostoken aegon life iterm insurance plan helps...   \n",
      "5      sostoken rahat fateh ali khan denies getting n...   \n",
      "7      sostoken govt directs alok verma to join work ...   \n",
      "...                                                  ...   \n",
      "98395  sostoken pakistan starts building fence along ...   \n",
      "98396  sostoken crpf jawan axed to death by maoists i...   \n",
      "98397  sostoken first song from sonakshi sinha noor t...   \n",
      "98398     sostoken the matrix film to get reboot reports   \n",
      "98400  sostoken madhesi morcha withdraws support to n...   \n",
      "\n",
      "                                          decoder_target summarized_text  \n",
      "0      upgrad learner switches to career in ml al wit...                  \n",
      "2      new zealand end rohit sharma led india match w...                  \n",
      "3      aegon life iterm insurance plan helps customer...                  \n",
      "5      rahat fateh ali khan denies getting notice for...                  \n",
      "7      govt directs alok verma to join work day befor...                  \n",
      "...                                                  ...             ...  \n",
      "98395  pakistan starts building fence along afghanist...                  \n",
      "98396  crpf jawan axed to death by maoists in chhatti...                  \n",
      "98397  first song from sonakshi sinha noor titled uff...                  \n",
      "98398     the matrix film to get reboot reports eostoken                  \n",
      "98400  madhesi morcha withdraws support to nepalese g...                  \n",
      "\n",
      "[91679 rows x 5 columns]\n"
     ]
    }
   ],
   "source": [
    "print(df_summarized)"
   ]
  },
  {
   "cell_type": "markdown",
   "id": "6d4c8e1a",
   "metadata": {},
   "source": [
    "### 회고\n",
    "- 어렵다 너무 어렵다. ㅋㅋ\n",
    "- 재밌다 알아갈수록 재밌다. ㅎㅎ\n",
    "- 나중에 NLP로 가야겠다.\n",
    "- 정리할 게 많아져서 좋다.\n",
    "- 추출적 요약에 대해 더 알아봐야겠다."
   ]
  }
 ],
 "metadata": {
  "kernelspec": {
   "display_name": "Python 3 (ipykernel)",
   "language": "python",
   "name": "python3"
  },
  "language_info": {
   "codemirror_mode": {
    "name": "ipython",
    "version": 3
   },
   "file_extension": ".py",
   "mimetype": "text/x-python",
   "name": "python",
   "nbconvert_exporter": "python",
   "pygments_lexer": "ipython3",
   "version": "3.9.7"
  }
 },
 "nbformat": 4,
 "nbformat_minor": 5
}
